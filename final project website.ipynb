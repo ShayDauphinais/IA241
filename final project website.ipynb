{
 "cells": [
  {
   "cell_type": "markdown",
   "id": "8af016a8",
   "metadata": {},
   "source": [
    "# Analyzing Botswana COVID-19 Data"
   ]
  },
  {
   "cell_type": "markdown",
   "id": "345c19b0",
   "metadata": {},
   "source": [
    "![Botswana Flag](data:image/png;base64,iVBORw0KGgoAAAANSUhEUgAAARMAAAC3CAMAAAAGjUrGAAAAElBMVEW10ecAAAD39/fO3+37+/tRUVFacdchAAAAo0lEQVR4nO3bsQ2EAAwEQfNA/y1/7g0JENJMCZs4Oc8AAAAAAAAAAAAAAAAAAAAAAAB83Mk2F9v82DQpTUqT0qTcnZqbbQ42TUqT0qQ0KU1Kk9KkNClNSpPSpDQpTUqT0qQ0KU1Kk9KkNClNSpPSpDQpTUqT0qQ0KbuCsj8pO6XSpDQpTUqTcnfKX0a9/SoDAAAAAAAAAAAAAAAAAAAAAADw1B9OVFcExaHFCwAAAABJRU5ErkJggg==)"
   ]
  },
  {
   "cell_type": "markdown",
   "id": "99061323",
   "metadata": {},
   "source": [
    "## Background of COVID-19"
   ]
  },
  {
   "cell_type": "markdown",
   "id": "73caad12",
   "metadata": {},
   "source": [
    "According to the World Health Organization, COVID-19 is an infectious disease caused by the SARS-CoV-2 virus. Many people who contract the illness will experience mild/moderate respiratory symptoms but will recover. Recovery is typically more long-term and serious for those who contract the illness while having other underlying health conditions. The World Health Organization advises that people stay informed and updated about the disease in order to prevent and slow transmission. The pandemic began in early 2020 and has still been affecting countries in 2022. Because of this, it is important that countries and their civilians stay vigilant against the virus and spreading it to others."
   ]
  },
  {
   "cell_type": "markdown",
   "id": "442a937a",
   "metadata": {},
   "source": [
    "## Data Source"
   ]
  },
  {
   "cell_type": "markdown",
   "id": "dda7e65c",
   "metadata": {},
   "source": [
    "The data is downloaded from [European Centre for Disease Prevention and Control](https://jmu.webex.com/jmu-en/url.php?frompanel=false&gourl=https%3A%2F%2Fgithub.com%2Fxbwei%2Fmachine_learning_in_python%2Fblob%2Fmaster%2FCOVID_19_Data_Analysis.ipynb)."
   ]
  },
  {
   "cell_type": "markdown",
   "id": "5ba442a2",
   "metadata": {},
   "source": [
    "## Botswanan Data on COVID-19"
   ]
  },
  {
   "cell_type": "code",
   "execution_count": 22,
   "id": "cbf92831",
   "metadata": {},
   "outputs": [],
   "source": [
    "%matplotlib inline\n",
    "import pandas"
   ]
  },
  {
   "cell_type": "code",
   "execution_count": 23,
   "id": "3551a109",
   "metadata": {},
   "outputs": [
    {
     "data": {
      "text/html": [
       "<div>\n",
       "<style scoped>\n",
       "    .dataframe tbody tr th:only-of-type {\n",
       "        vertical-align: middle;\n",
       "    }\n",
       "\n",
       "    .dataframe tbody tr th {\n",
       "        vertical-align: top;\n",
       "    }\n",
       "\n",
       "    .dataframe thead th {\n",
       "        text-align: right;\n",
       "    }\n",
       "</style>\n",
       "<table border=\"1\" class=\"dataframe\">\n",
       "  <thead>\n",
       "    <tr style=\"text-align: right;\">\n",
       "      <th></th>\n",
       "      <th>dateRep</th>\n",
       "      <th>day</th>\n",
       "      <th>month</th>\n",
       "      <th>year</th>\n",
       "      <th>cases</th>\n",
       "      <th>deaths</th>\n",
       "      <th>countriesAndTerritories</th>\n",
       "      <th>geoId</th>\n",
       "      <th>countryterritoryCode</th>\n",
       "      <th>popData2019</th>\n",
       "      <th>continentExp</th>\n",
       "      <th>Cumulative_number_for_14_days_of_COVID-19_cases_per_100000</th>\n",
       "    </tr>\n",
       "  </thead>\n",
       "  <tbody>\n",
       "    <tr>\n",
       "      <th>7733</th>\n",
       "      <td>14/12/2020</td>\n",
       "      <td>14</td>\n",
       "      <td>12</td>\n",
       "      <td>2020</td>\n",
       "      <td>0</td>\n",
       "      <td>0</td>\n",
       "      <td>Botswana</td>\n",
       "      <td>BW</td>\n",
       "      <td>BWA</td>\n",
       "      <td>2303703.0</td>\n",
       "      <td>Africa</td>\n",
       "      <td>108.911609</td>\n",
       "    </tr>\n",
       "    <tr>\n",
       "      <th>7734</th>\n",
       "      <td>13/12/2020</td>\n",
       "      <td>13</td>\n",
       "      <td>12</td>\n",
       "      <td>2020</td>\n",
       "      <td>0</td>\n",
       "      <td>0</td>\n",
       "      <td>Botswana</td>\n",
       "      <td>BW</td>\n",
       "      <td>BWA</td>\n",
       "      <td>2303703.0</td>\n",
       "      <td>Africa</td>\n",
       "      <td>108.911609</td>\n",
       "    </tr>\n",
       "    <tr>\n",
       "      <th>7735</th>\n",
       "      <td>2020-12-12 00:00:00</td>\n",
       "      <td>12</td>\n",
       "      <td>12</td>\n",
       "      <td>2020</td>\n",
       "      <td>443</td>\n",
       "      <td>1</td>\n",
       "      <td>Botswana</td>\n",
       "      <td>BW</td>\n",
       "      <td>BWA</td>\n",
       "      <td>2303703.0</td>\n",
       "      <td>Africa</td>\n",
       "      <td>108.911609</td>\n",
       "    </tr>\n",
       "    <tr>\n",
       "      <th>7736</th>\n",
       "      <td>2020-11-12 00:00:00</td>\n",
       "      <td>11</td>\n",
       "      <td>12</td>\n",
       "      <td>2020</td>\n",
       "      <td>0</td>\n",
       "      <td>0</td>\n",
       "      <td>Botswana</td>\n",
       "      <td>BW</td>\n",
       "      <td>BWA</td>\n",
       "      <td>2303703.0</td>\n",
       "      <td>Africa</td>\n",
       "      <td>89.681699</td>\n",
       "    </tr>\n",
       "    <tr>\n",
       "      <th>7737</th>\n",
       "      <td>2020-10-12 00:00:00</td>\n",
       "      <td>10</td>\n",
       "      <td>12</td>\n",
       "      <td>2020</td>\n",
       "      <td>0</td>\n",
       "      <td>0</td>\n",
       "      <td>Botswana</td>\n",
       "      <td>BW</td>\n",
       "      <td>BWA</td>\n",
       "      <td>2303703.0</td>\n",
       "      <td>Africa</td>\n",
       "      <td>89.681699</td>\n",
       "    </tr>\n",
       "    <tr>\n",
       "      <th>7738</th>\n",
       "      <td>2020-09-12 00:00:00</td>\n",
       "      <td>9</td>\n",
       "      <td>12</td>\n",
       "      <td>2020</td>\n",
       "      <td>527</td>\n",
       "      <td>2</td>\n",
       "      <td>Botswana</td>\n",
       "      <td>BW</td>\n",
       "      <td>BWA</td>\n",
       "      <td>2303703.0</td>\n",
       "      <td>Africa</td>\n",
       "      <td>89.681699</td>\n",
       "    </tr>\n",
       "    <tr>\n",
       "      <th>7739</th>\n",
       "      <td>2020-08-12 00:00:00</td>\n",
       "      <td>8</td>\n",
       "      <td>12</td>\n",
       "      <td>2020</td>\n",
       "      <td>0</td>\n",
       "      <td>0</td>\n",
       "      <td>Botswana</td>\n",
       "      <td>BW</td>\n",
       "      <td>BWA</td>\n",
       "      <td>2303703.0</td>\n",
       "      <td>Africa</td>\n",
       "      <td>84.082019</td>\n",
       "    </tr>\n",
       "    <tr>\n",
       "      <th>7740</th>\n",
       "      <td>2020-07-12 00:00:00</td>\n",
       "      <td>7</td>\n",
       "      <td>12</td>\n",
       "      <td>2020</td>\n",
       "      <td>0</td>\n",
       "      <td>0</td>\n",
       "      <td>Botswana</td>\n",
       "      <td>BW</td>\n",
       "      <td>BWA</td>\n",
       "      <td>2303703.0</td>\n",
       "      <td>Africa</td>\n",
       "      <td>84.082019</td>\n",
       "    </tr>\n",
       "    <tr>\n",
       "      <th>7741</th>\n",
       "      <td>2020-06-12 00:00:00</td>\n",
       "      <td>6</td>\n",
       "      <td>12</td>\n",
       "      <td>2020</td>\n",
       "      <td>1521</td>\n",
       "      <td>0</td>\n",
       "      <td>Botswana</td>\n",
       "      <td>BW</td>\n",
       "      <td>BWA</td>\n",
       "      <td>2303703.0</td>\n",
       "      <td>Africa</td>\n",
       "      <td>84.082019</td>\n",
       "    </tr>\n",
       "    <tr>\n",
       "      <th>7742</th>\n",
       "      <td>2020-05-12 00:00:00</td>\n",
       "      <td>5</td>\n",
       "      <td>12</td>\n",
       "      <td>2020</td>\n",
       "      <td>0</td>\n",
       "      <td>0</td>\n",
       "      <td>Botswana</td>\n",
       "      <td>BW</td>\n",
       "      <td>BWA</td>\n",
       "      <td>2303703.0</td>\n",
       "      <td>Africa</td>\n",
       "      <td>18.057883</td>\n",
       "    </tr>\n",
       "  </tbody>\n",
       "</table>\n",
       "</div>"
      ],
      "text/plain": [
       "                  dateRep  day  month  year  cases  deaths  \\\n",
       "7733           14/12/2020   14     12  2020      0       0   \n",
       "7734           13/12/2020   13     12  2020      0       0   \n",
       "7735  2020-12-12 00:00:00   12     12  2020    443       1   \n",
       "7736  2020-11-12 00:00:00   11     12  2020      0       0   \n",
       "7737  2020-10-12 00:00:00   10     12  2020      0       0   \n",
       "7738  2020-09-12 00:00:00    9     12  2020    527       2   \n",
       "7739  2020-08-12 00:00:00    8     12  2020      0       0   \n",
       "7740  2020-07-12 00:00:00    7     12  2020      0       0   \n",
       "7741  2020-06-12 00:00:00    6     12  2020   1521       0   \n",
       "7742  2020-05-12 00:00:00    5     12  2020      0       0   \n",
       "\n",
       "     countriesAndTerritories geoId countryterritoryCode  popData2019  \\\n",
       "7733                Botswana    BW                  BWA    2303703.0   \n",
       "7734                Botswana    BW                  BWA    2303703.0   \n",
       "7735                Botswana    BW                  BWA    2303703.0   \n",
       "7736                Botswana    BW                  BWA    2303703.0   \n",
       "7737                Botswana    BW                  BWA    2303703.0   \n",
       "7738                Botswana    BW                  BWA    2303703.0   \n",
       "7739                Botswana    BW                  BWA    2303703.0   \n",
       "7740                Botswana    BW                  BWA    2303703.0   \n",
       "7741                Botswana    BW                  BWA    2303703.0   \n",
       "7742                Botswana    BW                  BWA    2303703.0   \n",
       "\n",
       "     continentExp  Cumulative_number_for_14_days_of_COVID-19_cases_per_100000  \n",
       "7733       Africa                                         108.911609           \n",
       "7734       Africa                                         108.911609           \n",
       "7735       Africa                                         108.911609           \n",
       "7736       Africa                                          89.681699           \n",
       "7737       Africa                                          89.681699           \n",
       "7738       Africa                                          89.681699           \n",
       "7739       Africa                                          84.082019           \n",
       "7740       Africa                                          84.082019           \n",
       "7741       Africa                                          84.082019           \n",
       "7742       Africa                                          18.057883           "
      ]
     },
     "execution_count": 23,
     "metadata": {},
     "output_type": "execute_result"
    }
   ],
   "source": [
    "df = pandas.read_excel('s3://dauphinais-ia241/covid_data.xls')\n",
    "Botswana_Data=df.loc[df['countriesAndTerritories']=='Botswana']\n",
    "Botswana_Data[:10]"
   ]
  },
  {
   "cell_type": "markdown",
   "id": "57354556",
   "metadata": {},
   "source": [
    "### How many overall covid cases has Botswana had thus far?"
   ]
  },
  {
   "cell_type": "code",
   "execution_count": 24,
   "id": "9d52fd22",
   "metadata": {},
   "outputs": [
    {
     "data": {
      "text/plain": [
       "12501"
      ]
     },
     "execution_count": 24,
     "metadata": {},
     "output_type": "execute_result"
    }
   ],
   "source": [
    "Botswana_Data.sum()['cases']"
   ]
  },
  {
   "cell_type": "markdown",
   "id": "cddb8a92",
   "metadata": {},
   "source": [
    "### In what month did the amount of COVID-19 cases spike in the country?"
   ]
  },
  {
   "cell_type": "code",
   "execution_count": 25,
   "id": "4279032b",
   "metadata": {},
   "outputs": [
    {
     "data": {
      "text/plain": [
       "<AxesSubplot:xlabel='month'>"
      ]
     },
     "execution_count": 25,
     "metadata": {},
     "output_type": "execute_result"
    },
    {
     "data": {
      "image/png": "[encoded data removed]",
      "text/plain": [
       "<Figure size 432x288 with 1 Axes>"
      ]
     },
     "metadata": {
      "needs_background": "light"
     },
     "output_type": "display_data"
    }
   ],
   "source": [
    "sum_cases_per_day = Botswana_Data.groupby('month').sum()['cases']\n",
    "sum_cases_per_day.plot.bar()"
   ]
  },
  {
   "cell_type": "markdown",
   "id": "f1185277",
   "metadata": {},
   "source": [
    "Overall, Botswana has seen a total of 12,501 cases of COVID-19. The majority of these cases were diagnosed in the month of October, where the amount of cases hit just under 3,500. "
   ]
  },
  {
   "cell_type": "markdown",
   "id": "11dce355",
   "metadata": {},
   "source": [
    "### How many overall deaths has Botswana had thus far? "
   ]
  },
  {
   "cell_type": "code",
   "execution_count": 26,
   "id": "06ed9c20",
   "metadata": {},
   "outputs": [
    {
     "data": {
      "text/plain": [
       "37"
      ]
     },
     "execution_count": 26,
     "metadata": {},
     "output_type": "execute_result"
    }
   ],
   "source": [
    "Botswana_Data.sum()['deaths']"
   ]
  },
  {
   "cell_type": "markdown",
   "id": "09225a12",
   "metadata": {},
   "source": [
    "### In what month did the amount of COVID-19 deaths spike in the country?"
   ]
  },
  {
   "cell_type": "code",
   "execution_count": 27,
   "id": "d1ec6a8e",
   "metadata": {},
   "outputs": [
    {
     "data": {
      "text/plain": [
       "month\n",
       "4      1\n",
       "5      0\n",
       "6      0\n",
       "7      1\n",
       "8      4\n",
       "9     10\n",
       "10     8\n",
       "11     7\n",
       "12     6\n",
       "Name: deaths, dtype: int64"
      ]
     },
     "execution_count": 27,
     "metadata": {},
     "output_type": "execute_result"
    }
   ],
   "source": [
    "month_deaths=Botswana_Data.groupby('month').sum()['deaths']\n",
    "month_deaths[:]"
   ]
  },
  {
   "cell_type": "code",
   "execution_count": 28,
   "id": "a012f3dd",
   "metadata": {},
   "outputs": [
    {
     "data": {
      "text/plain": [
       "<AxesSubplot:xlabel='month'>"
      ]
     },
     "execution_count": 28,
     "metadata": {},
     "output_type": "execute_result"
    },
    {
     "data": {
      "image/png": "[encoded data removed]",
      "text/plain": [
       "<Figure size 432x288 with 1 Axes>"
      ]
     },
     "metadata": {
      "needs_background": "light"
     },
     "output_type": "display_data"
    }
   ],
   "source": [
    "sum_deaths_per_day = Botswana_Data.groupby('month').sum()['deaths']\n",
    "sum_deaths_per_day.plot.bar()"
   ]
  },
  {
   "cell_type": "markdown",
   "id": "045b995e",
   "metadata": {},
   "source": [
    "Out of the 12,501 COVID-19 cases that the country has seen overall, Botswana has only had 37 deaths from the virus. A majority of these deaths took place in the month of September, where the number of deaths hit 10 people."
   ]
  },
  {
   "cell_type": "markdown",
   "id": "7f5cc874",
   "metadata": {},
   "source": [
    "### Correlation Between Cases and Deaths in Botswana"
   ]
  },
  {
   "cell_type": "code",
   "execution_count": 51,
   "id": "d475b283",
   "metadata": {},
   "outputs": [
    {
     "data": {
      "text/plain": [
       "<AxesSubplot:xlabel='cases', ylabel='deaths'>"
      ]
     },
     "execution_count": 51,
     "metadata": {},
     "output_type": "execute_result"
    },
    {
     "data": {
      "image/png": "[encoded data removed]",
      "text/plain": [
       "<Figure size 432x288 with 1 Axes>"
      ]
     },
     "metadata": {
      "needs_background": "light"
     },
     "output_type": "display_data"
    }
   ],
   "source": [
    "Botswana_Data.plot.scatter(x='cases', y='deaths')"
   ]
  },
  {
   "cell_type": "markdown",
   "id": "3f274c89",
   "metadata": {},
   "source": [
    "The correlation between the amount of cases and amount of deaths in Botswana is infrequent. As the country witnesses more cases, it is expected that the amount of deaths would also rise; however, as pictured in this scatter plot graph, this is not always the case. As shown, some of the highest number of deaths that the country saw occurred when the cases were between 0-200. Likewise, the data shows that in a case where there were >1,400 cases, there were no deaths (given that singular datapoint). The cluster of datapoints at the bottom lefthand side of the graph is to be expected; when there are 0 cases (or any small number of cases), the correlation is expected to show a small number of deaths. "
   ]
  },
  {
   "cell_type": "markdown",
   "id": "0a387036",
   "metadata": {},
   "source": [
    "### What was the trend in overall monthly infection rate in Botswana?"
   ]
  },
  {
   "cell_type": "code",
   "execution_count": 46,
   "id": "46e097a8",
   "metadata": {},
   "outputs": [
    {
     "data": {
      "text/plain": [
       "<AxesSubplot:xlabel='month'>"
      ]
     },
     "execution_count": 46,
     "metadata": {},
     "output_type": "execute_result"
    },
    {
     "data": {
      "image/png": "[encoded data removed]",
      "text/plain": [
       "<Figure size 432x288 with 1 Axes>"
      ]
     },
     "metadata": {
      "needs_background": "light"
     },
     "output_type": "display_data"
    }
   ],
   "source": [
    "Botswana_Data.sort_values(by=['month']).plot(x='month',y='Cumulative_number_for_14_days_of_COVID-19_cases_per_100000')"
   ]
  },
  {
   "cell_type": "markdown",
   "id": "31538f62",
   "metadata": {},
   "source": [
    "## Overall explanation of Botswanan data conclusions"
   ]
  },
  {
   "cell_type": "markdown",
   "id": "e230c72f",
   "metadata": {},
   "source": [
    "The analyst initially began by encapsulating the overall data (of all countries) to only focus on Botswana's data for the sake of this product. Then, the data for the total amount of COVID-19 cases in the country was extracted and depicted in a bar graph. Next, the analyst looked at data for the total amount of deaths in the country, and illustrated her findings in a another bar graph. Lastly, the overall trend of monthly infection rates in Botswana was plotted with a line graph, with the x-axis representing the months in 2020 (as per the data), and the y-axis representing the rate per 100,000 cases of COVID-19 in Botswana."
   ]
  },
  {
   "cell_type": "markdown",
   "id": "cb324bb4",
   "metadata": {},
   "source": [
    "## Interpretations of the Diagrams"
   ]
  },
  {
   "cell_type": "markdown",
   "id": "1b4ab438",
   "metadata": {},
   "source": [
    "The first visualization illustrates data for the overall amount of COVID-19 cases in Botswana by month, starting in April and ending in December of 2020. The bar graph shows a slow increase from June to September, and a steep incline from September to October. The peak of this data was in October with a total of 3,500 cases. There was a slight decline from October to December, but not much with the final tally reaching 2,500 cases in December.\n",
    "\n",
    "The second graph shows a similar data set, but it represents the number of COVID-19 deaths by month from April to December of 2020. There was a slight incline from July to August, and the data ultimately peaked in September with a total of 10 deaths. A slight decline began in September, ending in December with the number of deaths falling to 6 people by the end of the year. \n",
    "\n",
    "The correlation graph depicts the unlikely relationship between cases and deaths seen in Botswana. One would predict to see a parallel incline between cases and deaths (i.e., when there are more cases, there are more deaths); however, this was not shown given the data from this country. Instead, the scatter plot illustrates the irreguarity of COVID-19 deaths related to COVID-19 cases. \n",
    "\n",
    "The last data visualization shows the rate of infection from April to December of 2020. Botswana's data here was very uneven, with the line graph taking many different dips, pivots, and inclines. The main takeaway was that there were peaks in October, November, and December, showing that the infection rate in Botswana was very sporadic throughout 2020. "
   ]
  },
  {
   "cell_type": "markdown",
   "id": "dce35728",
   "metadata": {},
   "source": [
    "## About the Author"
   ]
  },
  {
   "cell_type": "markdown",
   "id": "c05f0567",
   "metadata": {},
   "source": [
    "Shay Dauphinais\n"
   ]
  },
  {
   "cell_type": "markdown",
   "id": "cd883ca6",
   "metadata": {},
   "source": [
    "Email: dauphisx@dukes.jmu.edu"
   ]
  },
  {
   "cell_type": "markdown",
   "id": "f9cf5ca4",
   "metadata": {},
   "source": [
    "## Conclusion"
   ]
  },
  {
   "cell_type": "markdown",
   "id": "c9dcc5c0",
   "metadata": {},
   "source": [
    "This product portrays important data pertaining to COVID-19 data in the country of Botswana. This conclusion was limited by the analysts moderate proficiency in Python, but it was supported by the analysts knowledge on the country selected. There was also the limitation of the data only reporting from 2020. The product would be more informative and reliable with an updated dataset. "
   ]
  }
 ],
 "metadata": {
  "kernelspec": {
   "display_name": "conda_python3",
   "language": "python",
   "name": "conda_python3"
  },
  "language_info": {
   "codemirror_mode": {
    "name": "ipython",
    "version": 3
   },
   "file_extension": ".py",
   "mimetype": "text/x-python",
   "name": "python",
   "nbconvert_exporter": "python",
   "pygments_lexer": "ipython3",
   "version": "3.6.13"
  }
 },
 "nbformat": 4,
 "nbformat_minor": 5
}
